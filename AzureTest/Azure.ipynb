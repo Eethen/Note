{
 "cells": [
  {
   "cell_type": "markdown",
   "metadata": {},
   "source": [
    "# Azure\n"
   ]
  },
  {
   "cell_type": "markdown",
   "metadata": {},
   "source": [
    "# I. Databricks\n",
    "\n",
    "## Q\n",
    "\n",
    "\n",
    "\n",
    "\n",
    "### Intro: https://azure.microsoft.com/en-us/services/databricks/\n",
    "  - Mordern data warehouse\n",
    "  - big data\n",
    "  - Real-time analytics\n"
   ]
  },
  {
   "cell_type": "markdown",
   "metadata": {},
   "source": [
    "## Training: Intro to Azure Fundmentals\n",
    "### What is Azure\n",
    "- cloud computing: pay-as-you-go\n",
    "\n",
    "### Create a VM:\n",
    "- VM: softwares\n",
    "- image: a snapshot of a running VM, used for preconfiguration and to accelerate deployment\n",
    "  - size: processor speed, amount of memory, initial amount of storage, and expected network bandwidth\n",
    "  - region: a set of Azure data centers in a named geographic location\n",
    "  - network: A virtual network is a logically isolated network on Azure\n",
    "    - network security groups: cloud-level firewalls for your virtual networks\n",
    "  - resource groups: logical containers of virtual machines and other cloud resources"
   ]
  },
  {
   "cell_type": "markdown",
   "metadata": {},
   "source": [
    "# II. Data Factory\n",
    "https://gskplatforms.cprime.io/jira/browse/DS-1002\n",
    "\n",
    "ADF (SAP BW connector) to pull large dataset (> 1mm records)"
   ]
  },
  {
   "cell_type": "markdown",
   "metadata": {},
   "source": [
    "# Glossary:\n",
    "## 1. Azure Data Factory, Azure SQL Data Warehouse\n",
    "## 2. Azure Blob Storage\n",
    "## 3. Azure Analysis Service\n",
    "## 4. Power BI\n",
    "## 5. Azure Cosmos DB\n",
    "## 6. Azure Event Hubs\n",
    "## 7. Drupal,  multi-VM(Sharepoint, WebShare)\n",
    "\n",
    "## 8. Traditional data centers vs Azure\n",
    "\n",
    "## 9. VM(classic), ARM(Azure, Resouce Management)\n",
    "- VM(classic)\n",
    "Available from the first days of Azure, good for single service, e.g. website\n",
    "  - \"...centers around individual services, and every API call was made to a single operation on a single service\n",
    "\n",
    "- ARM\n",
    "  - automation script: a .json file that notes the relationship between created operations for one single VM and which can be used to duplicate the VM with languages e.g., .NET, Ruby, Azure scripting tools\n",
    "  \n",
    "## 10. SDK\n",
    "\n",
    "## 11. ASP .NET Web Application\n",
    "\n",
    "## 12. Package this up and web deploy this out\n",
    "\n",
    "## 13. Integration of VS to Azure\n",
    "ASP.NET Framework\n",
    "- right-click on the project name of the solution explorer -> \"publish\" on the context menu (to launch the VS publishign dialog) -> choose \"Microsoft Azure App Service\"\n",
    "\n",
    "\n",
    "## 14. SSL certificates\n",
    "\n",
    "## 15. AdventureWorks\n",
    "\n",
    "## 16. SA credentials in SQL\n",
    "\n",
    "## 17. to patch and configure the server\n",
    "  - SQL logins to be shared among multiple databases\n",
    "\n",
    "## 18. IPsec firewall\n",
    "  "
   ]
  },
  {
   "cell_type": "markdown",
   "metadata": {},
   "source": [
    "# Demo\n",
    "## Get started\n",
    "- RDP file for remote Desktop access to Windows VMs\n",
    "- SSH for remote access to Linux VMs\n",
    "    - nRemoteNG from nRemoteNG.com\n",
    "  \n",
    "  \n",
    "### Portal\n",
    "\n",
    "### Visual Studio\n",
    "\n",
    "\n",
    "### Scripting: PowerShell(Windows), Linux(Command line)\n",
    "- 2 command line tools\n",
    "  - Azure: v1\n",
    "  - az: v2\n",
    "\n",
    "\n",
    "### Database\n",
    "- install DB on VM: to have a full control of configuration\n",
    "- Azure SQL DB Services: no worry about infrastructure or software updates\n",
    "- SQL logins to be shared among multiple databases\n",
    "- DTU: \"database throughtput units\", a relative measure of performance incombination of CPU, memory, disk IO, network IO\n",
    "- no downtime scaleup\n",
    "  - utilization: >= 80% -> scale up\n",
    "\n",
    "- Microsoft SQL Sever Management Studio\n",
    "- protected by IPsec firewall\n",
    "- set sever firewall\n",
    "\n",
    "## tech chat: quick response\n",
    "\n",
    "## Azure Status Dashboard: for techniqual failure \n",
    "### Documentation "
   ]
  },
  {
   "cell_type": "markdown",
   "metadata": {},
   "source": [
    "## Launch VM: https://docs.microsoft.com/en-us/cli/azure/ad/sp?view=azure-cli-latest#az-ad-sp-create-for-rbac\n",
    "\n",
    "- quickstart: https://docs.microsoft.com/en-us/azure/virtual-machines/linux/quick-create-cli\n",
    "\n",
    "\n",
    "az login // webportal for sign in, \n",
    "\n",
    "az group create --name myResourceGroupVM --location eastus\n",
    "\n",
    "az vm create \\\n",
    "    --resource-group myResourceGroupVM \\\n",
    "    --name myVM \\\n",
    "    --image UbuntuLTS \\\n",
    "    --admin-username azureuser \\\n",
    "    --generate-ssh-keys     // __~/.ssh__\n",
    "\n",
    "// ssh-keygen: https://help.github.com/articles/generating-a-new-ssh-key-and-adding-it-to-the-ssh-agent/\n",
    "//    default folder: __/Users/you/.ssh__\n",
    "\n",
    "// public address will be needed for ssh\n",
    "// Nginx: webserver \n",
    "\n",
    "\n",
    "az group delete -name  GroupName // resource group: easy to manage\n",
    "\n",
    "    \n",
    " \n",
    "  "
   ]
  },
  {
   "cell_type": "code",
   "execution_count": null,
   "metadata": {},
   "outputs": [],
   "source": []
  }
 ],
 "metadata": {
  "kernelspec": {
   "display_name": "Python 3",
   "language": "python",
   "name": "python3"
  },
  "language_info": {
   "codemirror_mode": {
    "name": "ipython",
    "version": 3
   },
   "file_extension": ".py",
   "mimetype": "text/x-python",
   "name": "python",
   "nbconvert_exporter": "python",
   "pygments_lexer": "ipython3",
   "version": "3.7.0"
  }
 },
 "nbformat": 4,
 "nbformat_minor": 2
}
