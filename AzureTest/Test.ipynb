{
 "cells": [
  {
   "cell_type": "markdown",
   "metadata": {},
   "source": [
    "# Databricks\n",
    "## Test 1: \n",
    "  - date: Nov 15\n",
    "  - account: yliuid2018@gmail.com (free)\n",
    "  - configuration: {'WorkspaceName': Trial, \n",
    "                     'subsriptions': Free Trial, \n",
    "                   'Resource group': Single,\n",
    "                           'region': East US  \n",
    "                     'Pricing Tier': Standard'\n",
    "                     }\n",
    "                     \n",
    " "
   ]
  },
  {
   "cell_type": "markdown",
   "metadata": {},
   "source": [
    "## VM:\n",
    "  - date: Nov 15\n",
    "  - account: yliuid2018@gmail.com (free)\n",
    "  - configuration: {'WorkspaceName': Trial, \n",
    "                     'subsriptions': Free Trial, \n",
    "                   'Resource group': Single,\n",
    "                           'region': East US,\n",
    "                         'Password': Code@017JobJob,\n",
    "                             'name': E\n",
    "                           \n",
    "                     }\n",
    "### To test username/password log-in    \n",
    "- quick start to create one VM\n",
    "https://docs.microsoft.com/en-us/azure/virtual-machines/linux/quick-create-portal?toc=%2Fazure%2Fvirtual-machines%2Flinux%2Ftoc.json\n",
    "ssh -p 20 E@40.87.3.173\n",
    "                     "
   ]
  },
  {
   "cell_type": "markdown",
   "metadata": {},
   "source": [
    "# To finish:\n",
    "### Databricks:\n",
    "- study and try other subscriptions and set up clusters\n",
    "- Scala if necessary + Spark\n",
    "\n",
    "### VM:\n",
    "- check if ~/.ssh is searched for ssh pem"
   ]
  },
  {
   "cell_type": "markdown",
   "metadata": {},
   "source": [
    "# Resources\n",
    "## 1. PDF Tutorial\n",
    "\n",
    "## 2. Get Started: Online by Azure \n",
    "https://docs.azuredatabricks.net/getting-started/index.html\n",
    "\n",
    "## 3. Manage \n",
    "https://medium.com/@willvelida/managing-and-configuring-clusters-within-azure-databricks-46cfd4025b78"
   ]
  },
  {
   "cell_type": "markdown",
   "metadata": {},
   "source": [
    "# Azure Concepts\n",
    "## AAD (Azure Active Directory):\n",
    "- access and identity management service for organizations\n",
    "  - licences: allow people to access services in tenant\n",
    "  \n",
    "\n",
    "- https://docs.microsoft.com/en-us/azure/active-directory/fundamentals/active-directory-whatis\n",
    "- Microsoft’s cloud-based identity and access management service\n",
    "\n",
    "- example:\n",
    "  - \"From Default Directory (yliuid2018gmail.onmicrosoft.com)\": when I set up an free account, a directory was established to hold the functions and my account was subscribed to yliuid2018gmail.onmicrosoft.com.\n"
   ]
  }
 ],
 "metadata": {
  "kernelspec": {
   "display_name": "Python 3",
   "language": "python",
   "name": "python3"
  },
  "language_info": {
   "codemirror_mode": {
    "name": "ipython",
    "version": 3
   },
   "file_extension": ".py",
   "mimetype": "text/x-python",
   "name": "python",
   "nbconvert_exporter": "python",
   "pygments_lexer": "ipython3",
   "version": "3.7.0"
  }
 },
 "nbformat": 4,
 "nbformat_minor": 2
}
