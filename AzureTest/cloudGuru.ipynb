{
 "cells": [
  {
   "cell_type": "markdown",
   "metadata": {},
   "source": [
    "\n",
    "# Create VM\n",
    "- resources\n",
    "  - https://docs.microsoft.com/en-us/azure/virtual-machines/\n",
    "  - https://docs.microsoft.com/en-us/azure/virtual-machines/windows/\n",
    "  - https://docs.microsoft.com/en-us/azure/virtual-machines/windows/quick-create-powershell?toc=%2Fazure%2Fvirtual-machines%2Fwindows%2Ftoc.json\n",
    "  - https://docs.microsoft.com/en-us/azure/virtual-machines/linux/quick-create-portal?toc=%2Fazure%2Fvirtual-machines%2Flinux%2Ftoc.json"
   ]
  },
  {
   "cell_type": "markdown",
   "metadata": {},
   "source": [
    "## Create A Windows Server VM \n",
    "- Virtual machine: CPU and mem\n",
    "- VHD: virtual hard disk, in Blob section of the storage account\n",
    "- Customize this server/add roles: e.g. server\n",
    "\n"
   ]
  },
  {
   "cell_type": "markdown",
   "metadata": {},
   "source": [
    "## Create A Linux VM\n",
    "- Better use ssh to log in\n",
    "- while RDP is also available, need to log in first, via ssh, to install RDP linux version"
   ]
  },
  {
   "cell_type": "markdown",
   "metadata": {},
   "source": [
    "## Glossary\n",
    "- IaaS: Infrastructure as a Service\n",
    "  - https://www.interoute.com/what-iaas"
   ]
  }
 ],
 "metadata": {
  "kernelspec": {
   "display_name": "Python 3",
   "language": "python",
   "name": "python3"
  },
  "language_info": {
   "codemirror_mode": {
    "name": "ipython",
    "version": 3
   },
   "file_extension": ".py",
   "mimetype": "text/x-python",
   "name": "python",
   "nbconvert_exporter": "python",
   "pygments_lexer": "ipython3",
   "version": "3.7.0"
  }
 },
 "nbformat": 4,
 "nbformat_minor": 2
}
